{
 "cells": [
  {
   "cell_type": "code",
   "execution_count": 7,
   "metadata": {},
   "outputs": [
    {
     "name": "stdout",
     "output_type": "stream",
     "text": [
      "[('classes', '60'), ('train', 'test_lp.txt'), ('valid', 'test_lp.txt'), ('names', 'lp.names'), ('backup', 'backup_lp/')]\n",
      "60\n"
     ]
    }
   ],
   "source": [
    "# instructions\n",
    "# keep only one .data file\n",
    "\n",
    "\n",
    "import glob\n",
    "import numpy as np\n",
    "from sklearn.cluster import KMeans\n",
    "\n",
    "from config import *\n",
    "\n",
    "# process .data file\n",
    "data = [(a.split('=')[0].strip(), a.split('=')[1].strip()) for a in open(glob.glob('*.data')[0], 'r').readlines()]\n",
    "print(data)\n",
    "\n",
    "# no. of clusters by default == no. of classes\n",
    "\n",
    "n_classes = int(data[0][1]) if data[0][0] == 'classes' else print('Invalid .data format [no classes]')\n",
    "train_path = data[1][1] if data[1][0] == 'train' else print('Invalid .data format [no train]')\n",
    "\n",
    "# update\n",
    "\n",
    "print(n_classes)\n",
    "\n",
    "\n",
    "\n",
    "\n",
    "\n",
    "H = []\n",
    "W = []\n",
    "\n",
    "train_files = [a.strip() for a in open(train_path, 'r').readlines()]\n",
    "\n",
    "# reading .txt files\n",
    "\n",
    "for txt in train_files:\n",
    "    txt = txt.split('.')[0] + '.txt'\n",
    "    try:\n",
    "        objs = [a.strip().split(' ')[-2:] for a in open(txt, 'r').readlines()]\n",
    "        for obj in objs:\n",
    "            W.append(int(float(obj[0])*yolo_height))\n",
    "            H.append(int(float(obj[1])*yolo_width))\n",
    "    except Exception as e:\n",
    "        print(e)\n",
    "        pass\n",
    "    \n",
    "H = np.array(H)\n",
    "W = np.array(W)"
   ]
  },
  {
   "cell_type": "code",
   "execution_count": null,
   "metadata": {},
   "outputs": [],
   "source": []
  },
  {
   "cell_type": "code",
   "execution_count": 16,
   "metadata": {},
   "outputs": [
    {
     "name": "stdout",
     "output_type": "stream",
     "text": [
      "(2, 10887)\n",
      "(10887, 2)\n"
     ]
    }
   ],
   "source": [
    "x=[W,H]\n",
    "x=np.asarray(x)\n",
    "print(x.shape)\n",
    "x=x.transpose()\n",
    "print(x.shape)\n",
    "\n",
    "from sklearn.cluster import KMeans\n",
    "kmeans3 = KMeans(n_clusters=n_clusters)\n",
    "kmeans3.fit(x)\n",
    "y_kmeans3 = kmeans3.predict(x)\n"
   ]
  },
  {
   "cell_type": "code",
   "execution_count": 24,
   "metadata": {},
   "outputs": [],
   "source": [
    "\n",
    "yolo_anchor_average=[]\n",
    "for ind in range (n_clusters):\n",
    "    yolo_anchor_average.append(np.mean(x[y_kmeans3==ind],axis=0))\n",
    "\n",
    "yolo_anchor_average=np.array(yolo_anchor_average, dtype=np.int)"
   ]
  },
  {
   "cell_type": "code",
   "execution_count": 25,
   "metadata": {},
   "outputs": [
    {
     "data": {
      "text/plain": [
       "array([[14, 34],\n",
       "       [81, 36],\n",
       "       [14, 39],\n",
       "       [12, 26]])"
      ]
     },
     "execution_count": 25,
     "metadata": {},
     "output_type": "execute_result"
    }
   ],
   "source": [
    "yolo_anchor_average"
   ]
  },
  {
   "cell_type": "code",
   "execution_count": 19,
   "metadata": {},
   "outputs": [],
   "source": [
    "import matplotlib.pyplot as plt\n",
    "import numpy as np"
   ]
  },
  {
   "cell_type": "code",
   "execution_count": 26,
   "metadata": {},
   "outputs": [
    {
     "data": {
      "image/png": "[encoded data removed]",
      "text/plain": [
       "<Figure size 432x288 with 1 Axes>"
      ]
     },
     "metadata": {
      "needs_background": "light"
     },
     "output_type": "display_data"
    }
   ],
   "source": [
    "plt.scatter(x[:, 0], x[:, 1], c=y_kmeans3, s=2, cmap='viridis')\n",
    "plt.scatter(yolo_anchor_average[:, 0], yolo_anchor_average[:, 1], c='red', s=50);\n",
    "plt.xlabel('')\n",
    "plt.show()"
   ]
  },
  {
   "cell_type": "code",
   "execution_count": null,
   "metadata": {},
   "outputs": [],
   "source": []
  }
 ],
 "metadata": {
  "kernelspec": {
   "display_name": "Python 3",
   "language": "python",
   "name": "python3"
  },
  "language_info": {
   "codemirror_mode": {
    "name": "ipython",
    "version": 3
   },
   "file_extension": ".py",
   "mimetype": "text/x-python",
   "name": "python",
   "nbconvert_exporter": "python",
   "pygments_lexer": "ipython3",
   "version": "3.6.8"
  }
 },
 "nbformat": 4,
 "nbformat_minor": 2
}
